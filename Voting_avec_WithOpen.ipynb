{
  "nbformat": 4,
  "nbformat_minor": 0,
  "metadata": {
    "colab": {
      "name": "Voting_avec_WithOpen",
      "provenance": [],
      "authorship_tag": "ABX9TyO6SNhi863BEXAdfbS3Dc38",
      "include_colab_link": true
    },
    "kernelspec": {
      "name": "python3",
      "display_name": "Python 3"
    }
  },
  "cells": [
    {
      "cell_type": "markdown",
      "metadata": {
        "id": "view-in-github",
        "colab_type": "text"
      },
      "source": [
        "<a href=\"https://colab.research.google.com/github/samibahig/IFT6390/blob/main/Voting_avec_WithOpen.ipynb\" target=\"_parent\"><img src=\"https://colab.research.google.com/assets/colab-badge.svg\" alt=\"Open In Colab\"/></a>"
      ]
    },
    {
      "cell_type": "code",
      "metadata": {
        "colab": {
          "base_uri": "https://localhost:8080/",
          "height": 129
        },
        "id": "RQ0hx6dM9wOp",
        "outputId": "2c888bb4-bf30-4bcb-9ad3-d36580e5ada8"
      },
      "source": [
        "with open('/content/sample_submission (89.122)') as f1, open('/content/sample_submission (89.138)') as f2,open('/content/sample_submission (89.3)') as f3:\n",
        "    for line1, line2, line3 in zip(f1,f2,f3):\n",
        "        a= line1.split(',')[1]\n",
        "        b= line2.split(',')[1] \n",
        "        c= line3.split(',')[1]\n",
        "\n",
        "        if a==b:\n",
        "            d = a\n",
        "        else:\n",
        "            d = c \n",
        "        \n",
        "        #id = line1.split(',')[0]\n",
        "            \n",
        "        #return id, d\n",
        "        #f = open(\"sample_submission_d\", \"w\")\n",
        "        #f.write(\"id\", d)"
      ],
      "execution_count": null,
      "outputs": [
        {
          "output_type": "error",
          "ename": "SyntaxError",
          "evalue": "ignored",
          "traceback": [
            "\u001b[0;36m  File \u001b[0;32m\"<ipython-input-23-31b17f326e28>\"\u001b[0;36m, line \u001b[0;32m12\u001b[0m\n\u001b[0;31m    return d\u001b[0m\n\u001b[0m            ^\u001b[0m\n\u001b[0;31mSyntaxError\u001b[0m\u001b[0;31m:\u001b[0m 'return' outside function\n"
          ]
        }
      ]
    }
  ]
}