{
  "nbformat": 4,
  "nbformat_minor": 0,
  "metadata": {
    "colab": {
      "name": "Ensemble",
      "provenance": [],
      "authorship_tag": "ABX9TyNAMzddravpt+OdMnclxdEB",
      "include_colab_link": true
    },
    "kernelspec": {
      "name": "python3",
      "display_name": "Python 3"
    },
    "language_info": {
      "name": "python"
    }
  },
  "cells": [
    {
      "cell_type": "markdown",
      "metadata": {
        "id": "view-in-github",
        "colab_type": "text"
      },
      "source": [
        "<a href=\"https://colab.research.google.com/github/samibahig/IFT6390/blob/main/Ensemble.ipynb\" target=\"_parent\"><img src=\"https://colab.research.google.com/assets/colab-badge.svg\" alt=\"Open In Colab\"/></a>"
      ]
    },
    {
      "cell_type": "code",
      "metadata": {
        "id": "o_uTOHWig_RX"
      },
      "source": [
        "import numpy as np\n",
        "from sklearn.model_selection import train_test_split\n",
        "from sklearn.ensemble import RandomForestClassifier\n",
        "from sklearn.ensemble import BaggingClassifier\n",
        "from sklearn.neighbors import KNeighborsClassifier\n",
        "from sklearn.ensemble import ExtraTreesClassifier\n",
        "from sklearn.ensemble import AdaBoostClassifier\n",
        "import pandas as pd\n",
        "\n",
        "\n",
        "data = np.load('train.npz')\n",
        "X = data['arr_0']\n",
        "y = data['arr_1']\n",
        "\n",
        "test_data = np.load('test.npz')\n",
        "X_test = test_data['arr_0']\n",
        "\n",
        "X_train, X_val, y_train, y_val = train_test_split(X, y, test_size=0.33, random_state=42)\n",
        "\n",
        "#########################################################################################\n",
        "\n",
        "clf = RandomForestClassifier(criterion='entropy', n_estimators=10, random_state=42)\n",
        "\n",
        "#########################################################################################\n",
        "'''\n",
        "clf = BaggingClassifier(KNeighborsClassifier(), max_samples=0.5, max_features=0.5)\n",
        "'''\n",
        "########################################################################################\n",
        "'''\n",
        "clf = ExtraTreesClassifier(n_estimators=1000, max_depth=None, min_samples_split=2, random_state=0)\n",
        "'''\n",
        "#######################################################################################\n",
        "'''\n",
        "clf = AdaBoostClassifier(n_estimators=1000)\n",
        "'''\n",
        "#######################################################################################\n",
        "\n",
        "'''clf = clf.fit(X_train, y_train)\n",
        "pred = clf.predict(X_test)\n",
        "print('val accuracy ', np.mean(pred == y_test))\n",
        "pred2 = clf.predict(X_train)\n",
        "print('train accuracy ', np.mean(pred2 == y_train))'''\n",
        "\n",
        "clf = clf.fit(X_train, y_train)\n",
        "pred = clf.predict(X_test)\n",
        "\n",
        "df = pd.DataFrame(pred)\n",
        "df.to_csv('pred4.csv',index=True, index_label='Id', header=['Category'])"
      ],
      "execution_count": null,
      "outputs": []
    }
  ]
}