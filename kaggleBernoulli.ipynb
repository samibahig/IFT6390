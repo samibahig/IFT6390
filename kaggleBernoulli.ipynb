{
  "nbformat": 4,
  "nbformat_minor": 0,
  "metadata": {
    "colab": {
      "name": "kaggleBernoulli",
      "provenance": [],
      "collapsed_sections": [],
      "include_colab_link": true
    },
    "kernelspec": {
      "name": "python3",
      "display_name": "Python 3"
    }
  },
  "cells": [
    {
      "cell_type": "markdown",
      "metadata": {
        "id": "view-in-github",
        "colab_type": "text"
      },
      "source": [
        "<a href=\"https://colab.research.google.com/github/samibahig/IFT6390/blob/main/kaggleBernoulli.ipynb\" target=\"_parent\"><img src=\"https://colab.research.google.com/assets/colab-badge.svg\" alt=\"Open In Colab\"/></a>"
      ]
    },
    {
      "cell_type": "code",
      "metadata": {
        "id": "jz8fO5mVMxyl",
        "colab": {
          "base_uri": "https://localhost:8080/"
        },
        "outputId": "1bfc52ea-acd1-487b-d9d2-70c4176bcf3a"
      },
      "source": [
        "import os\n",
        "import numpy as np\n",
        "import scipy.sparse as sp \n",
        "import pandas as pd \n",
        "\n",
        "import gc\n",
        "import re, unicodedata\n",
        "import string\n",
        "import tqdm\n",
        "from collections import defaultdict\n",
        "\n",
        "train, test = pd.read_csv('/content/train.csv'), pd.read_csv('/content/test.csv')\n",
        "print (train, test)"
      ],
      "execution_count": null,
      "outputs": [
        {
          "output_type": "stream",
          "text": [
            "        Id  ...           Category\n",
            "0        0  ...           astro-ph\n",
            "1        1  ...             hep-ph\n",
            "2        2  ...              cs.LG\n",
            "3        3  ...            math.CO\n",
            "4        4  ...  cond-mat.mes-hall\n",
            "...    ...  ...                ...\n",
            "7495  7495  ...        astro-ph.CO\n",
            "7496  7496  ...        astro-ph.CO\n",
            "7497  7497  ...             hep-th\n",
            "7498  7498  ...            math.CO\n",
            "7499  7499  ...             hep-th\n",
            "\n",
            "[7500 rows x 3 columns]           Id                                           Abstract\n",
            "0          0    We describe ways to define and calculate $L_...\n",
            "1          1    The progenitor systems of Type-Ia supernovae...\n",
            "2          2    OmegaWhite is a wide-field, high cadence, sy...\n",
            "3          3    Given $n \\geq 2$ and $1<p<n$, we consider th...\n",
            "4          4    The motivation of this work is to improve th...\n",
            "...      ...                                                ...\n",
            "14995  14995    We investigate the ability of the Space Infr...\n",
            "14996  14996    We study theoretically the influence of the ...\n",
            "14997  14997    We present multifrequency radio observations...\n",
            "14998  14998    It is commonly accepted that the combination...\n",
            "14999  14999    The coherent optical manipulation of solids ...\n",
            "\n",
            "[15000 rows x 2 columns]\n"
          ],
          "name": "stdout"
        }
      ]
    },
    {
      "cell_type": "markdown",
      "metadata": {
        "id": "zBg5igvhB1yg"
      },
      "source": [
        "# New Section"
      ]
    },
    {
      "cell_type": "markdown",
      "metadata": {
        "id": "MvftLkJdB2Qa"
      },
      "source": [
        "# New Section"
      ]
    },
    {
      "cell_type": "markdown",
      "metadata": {
        "id": "0Gj_hAyoB2vL"
      },
      "source": [
        "# New Section"
      ]
    },
    {
      "cell_type": "code",
      "metadata": {
        "id": "fYs_HvlFLmUO"
      },
      "source": [
        "def remove_non_ascii(words):\n",
        "    return ''.join([i if ord(i) < 128 else ' ' for i in words])"
      ],
      "execution_count": null,
      "outputs": []
    },
    {
      "cell_type": "code",
      "metadata": {
        "id": "C4EtPgAcNrAf"
      },
      "source": [
        "def process(df, t):\n",
        "    df[t] = df[t].apply(lambda x : x.lower())\n",
        "    #train['Abstract'] = train['Abstract'].apply(lambda x : remove_punctuation(x))\n",
        "    df[t] = df[t].apply(lambda x : x.strip())\n",
        "    df[t] = df[t].apply(lambda x : re.sub('\\n', ' ', x))\n",
        "    df[t] = df[t].apply(lambda x : re.sub('\\[[^]]*\\]', '', x))\n",
        "    df[t] = df[t].apply(lambda x : re.sub(\"<.*?>\", \" \", x))\n",
        "    df[t] = df[t].apply(lambda x : remove_non_ascii(x))\n",
        "    df[t] = df[t].str.replace('[^\\w\\s]','')\n",
        "    return df"
      ],
      "execution_count": null,
      "outputs": []
    },
    {
      "cell_type": "code",
      "metadata": {
        "id": "5AzZlN_PNObe",
        "colab": {
          "base_uri": "https://localhost:8080/"
        },
        "outputId": "23614fff-24c7-43cd-aa3e-69e685acdcaa"
      },
      "source": [
        "t = train['Abstract']\n",
        "\n",
        "train = process(train, 'Abstract')\n",
        "test = process(test, 'Abstract')\n",
        "\n",
        "train['Abstract']\n",
        "print(train['Abstract'].shape)"
      ],
      "execution_count": null,
      "outputs": [
        {
          "output_type": "stream",
          "text": [
            "(7500,)\n"
          ],
          "name": "stdout"
        }
      ]
    },
    {
      "cell_type": "code",
      "metadata": {
        "id": "q-NjP64IN8K3"
      },
      "source": [
        "class BernoulliVectorizer:\n",
        "    def __init__(self):\n",
        "        self.vocab = []\n",
        "        self.vocab_counter = {}\n",
        "    def build_vocab(self, data):\n",
        "        for document in data:\n",
        "            for word in document.split(' '):\n",
        "                if word in self.vocab_counter:\n",
        "                    self.vocab_counter[word] += 1\n",
        "                    if self.vocab_counter[word] == 20:\n",
        "                        self.vocab.append(word)\n",
        "                else:\n",
        "                    self.vocab_counter[word] = 1\n",
        "    def transform(self, data):\n",
        "        i = 0\n",
        "        counter = 0 \n",
        "        answer = np.zeros((len(data),len(self.vocab)))\n",
        "        for document in data:\n",
        "            counter = counter + 1\n",
        "            token = document.split(' ')                                 \n",
        "            bin_vect = np.zeros(len(self.vocab))\n",
        "            for word_idx in range(len(self.vocab)):\n",
        "                for e in token: \n",
        "                    if e == self.vocab[word_idx]:\n",
        "                        bin_vect[word_idx ] = 1\n",
        "            answer[i, :] = bin_vect\n",
        "            i += 1\n",
        "        return answer\n",
        "    \n",
        "    def fit_transform(self, data):\n",
        "        self.build_vocab(data)\n",
        "        print(len(self.vocab))\n",
        "        return self.transform(data)"
      ],
      "execution_count": null,
      "outputs": []
    },
    {
      "cell_type": "code",
      "metadata": {
        "id": "MVFXwPE2OALD"
      },
      "source": [
        "BV = BernoulliVectorizer()\n",
        "#X_train = BV.fit_transform(train['Abstract'])\n",
        "#test['Abstract'] = B.transform(test['Abstract'])\n",
        "# train.head()\n",
        "# train  = train.to_numpy() "
      ],
      "execution_count": null,
      "outputs": []
    },
    {
      "cell_type": "code",
      "metadata": {
        "id": "E5BOc_zTOlMH"
      },
      "source": [
        "class BernoulliNB:\n",
        "    def __init__(self, alpha):\n",
        "        self.alpha = alpha   \n",
        "    '''P(C_k) =  number of documents of that class / number of documents\n",
        "       P(C_k / w1, w2, ...)\\prop P(C_k) P(w1/C_k) P(w2/ C_k)\n",
        "       P(wi / C_k) = number of documents of class C_k with w_i/ number of documents with that class \n",
        "       get all the rows of class C_k, how many of them was word w_i \n",
        "       get all the rows of class C_k, how many of them has a 1 in the index of w_i '''\n",
        "    def fit(self, X, y):\n",
        "        self.n_classes = len(np.unique(np.unique(y,return_inverse=True)[1]))\n",
        "        n_classes = self.n_classes\n",
        "        # calculate P(C_k) for all k\n",
        "        self.counts = np.zeros(n_classes)\n",
        "        y_cat = np.unique(y,return_inverse=True)[1]\n",
        "        for i in y_cat:\n",
        "            self.counts[i] += 1,\n",
        "        self.counts /= len(y_cat)\n",
        "     # generate n_features x n_classes matrix\\n\",   \n",
        "        self.params = np.zeros((n_classes, X.shape[1]))\n",
        "        for idx in range(len(X)):\n",
        "            self.params[y_cat[idx]] += X[idx]\n",
        "        self.params += self.alpha \n",
        "        class_sums = self.params.sum(axis=1) +  self.alpha * self.n_classes  #laplace\n",
        "        self.params = self.params / class_sums[:, np.newaxis]\n",
        "    def predict(self, X):\n",
        "        neg_prob = np.log(1 - self.params)\n",
        "        # compute neg_prob\n",
        "        jll = np.dot(X, (np.log(self.params)-neg_prob).T)           \n",
        "        jll += np.log(self.counts) + neg_prob.sum(axis=1)\n",
        "        return np.argmax(jll, axis=1)"
      ],
      "execution_count": null,
      "outputs": []
    },
    {
      "cell_type": "code",
      "metadata": {
        "id": "iFDe7RS4g2vm"
      },
      "source": [
        "uni, cats = np.unique(train['Category'],return_inverse=True)"
      ],
      "execution_count": null,
      "outputs": []
    },
    {
      "cell_type": "code",
      "metadata": {
        "id": "-c9KxAR8TNCZ",
        "colab": {
          "base_uri": "https://localhost:8080/"
        },
        "outputId": "50370963-1076-45f2-afef-c6b10691c8e0"
      },
      "source": [
        "alpha = 1\n",
        "NB = BernoulliNB(alpha)\n",
        "X_train = BV.fit_transform(train['Abstract'])\n",
        "NB.fit(X_train, train['Category'])\n",
        "print('Test')\n",
        "X_test = BV.transform(test['Abstract'])\n",
        "Y_test = NB.predict(X_test)"
      ],
      "execution_count": null,
      "outputs": [
        {
          "output_type": "stream",
          "text": [
            "4502\n",
            "Test\n"
          ],
          "name": "stdout"
        }
      ]
    },
    {
      "cell_type": "code",
      "metadata": {
        "id": "LMrKB6aKIdrP"
      },
      "source": [
        "pd.DataFrame(X_test).to_csv('Bernoulli4502')"
      ],
      "execution_count": null,
      "outputs": []
    }
  ]
}